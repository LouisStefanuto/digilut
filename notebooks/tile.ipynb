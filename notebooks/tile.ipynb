{
 "cells": [
  {
   "cell_type": "code",
   "execution_count": null,
   "metadata": {},
   "outputs": [],
   "source": [
    "import tifffile\n",
    "from PIL import Image\n",
    "import numpy as np\n",
    "import pandas as pd\n",
    "import os\n",
    "from pathlib import Path\n",
    "from tqdm import tqdm\n",
    "\n",
    "# Configuration\n",
    "TIFF_FILE = \"../data/images/bGaslniO4a_a.tif\"\n",
    "ANNOTATION_CSV = \"../data/train.csv\"\n",
    "OUTPUT_TILES_DIR = \"tiles\"\n",
    "TILE_SIZE = 224\n",
    "TILE_EXTENSION = \".png\"\n",
    "OUTPUT_CSV = \"tiles_labels.csv\"\n",
    "VARIABILITY_THRESHOLD = 10\n",
    "RECTANGLE_OUTPUT_FILE = \"rectangles_overlay.png\""
   ]
  },
  {
   "cell_type": "code",
   "execution_count": null,
   "metadata": {},
   "outputs": [],
   "source": [
    "# Create output directory if it does not exist\n",
    "if not os.path.exists(OUTPUT_TILES_DIR):\n",
    "    os.makedirs(OUTPUT_TILES_DIR)\n",
    "\n",
    "# Load WSI and annotations\n",
    "with tifffile.TiffFile(TIFF_FILE) as tif:\n",
    "    slide = tif.asarray()\n",
    "annotations = pd.read_csv(ANNOTATION_CSV)"
   ]
  },
  {
   "cell_type": "code",
   "execution_count": null,
   "metadata": {},
   "outputs": [],
   "source": [
    "# Only keep rows that match the filename\n",
    "annotations = annotations[annotations.filename == Path(TIFF_FILE).name]\n",
    "annotations"
   ]
  },
  {
   "cell_type": "code",
   "execution_count": null,
   "metadata": {},
   "outputs": [],
   "source": [
    "def is_tile_positive(tile_x, tile_y, tile_size, annotations):\n",
    "    for _, row in annotations.iterrows():\n",
    "        x1, y1, x2, y2 = row[\"x1\"], row[\"y1\"], row[\"x2\"], row[\"y2\"]\n",
    "        # Check if annotation box intersects with the tile\n",
    "        if not (\n",
    "            tile_x > x2\n",
    "            or tile_x + tile_size < x1\n",
    "            or tile_y > y2\n",
    "            or tile_y + tile_size < y1\n",
    "        ):\n",
    "            return True\n",
    "    return False\n",
    "\n",
    "\n",
    "def calculate_tile_variability(tile):\n",
    "    # Convert to grayscale if it's not already\n",
    "    if tile.ndim == 3:\n",
    "        tile = np.mean(tile, axis=2)\n",
    "    # Calculate standard deviation of pixel values\n",
    "    return np.std(tile)"
   ]
  },
  {
   "cell_type": "code",
   "execution_count": null,
   "metadata": {},
   "outputs": [],
   "source": [
    "# Get slide dimensions\n",
    "slide_height, slide_width = slide.shape[:2]\n",
    "\n",
    "tile_labels = []\n",
    "\n",
    "\n",
    "# Generate tiles with progress bar\n",
    "for x in tqdm(range(0, slide_width, TILE_SIZE), desc=\"Processing Tiles\", unit=\"col\"):\n",
    "    for y in tqdm(\n",
    "        range(0, slide_height, TILE_SIZE),\n",
    "        desc=\"Processing Rows\",\n",
    "        unit=\"row\",\n",
    "        leave=False,\n",
    "    ):\n",
    "        # Define tile bounding box\n",
    "        box = (x, y, min(x + TILE_SIZE, slide_width), min(y + TILE_SIZE, slide_height))\n",
    "\n",
    "        # Extract tile from slide\n",
    "        tile = slide[box[1] : box[3], box[0] : box[2]]\n",
    "\n",
    "        # Calculate variability\n",
    "        variability = calculate_tile_variability(tile)\n",
    "\n",
    "        if variability < VARIABILITY_THRESHOLD:\n",
    "            # Skip tiles with low variability\n",
    "            continue\n",
    "\n",
    "        # Convert tile to PIL Image and save as PNG\n",
    "        tile_image = Image.fromarray(tile)\n",
    "        tile_filename = f\"tile_{x}_{y}{TILE_EXTENSION}\"\n",
    "        tile_path = os.path.join(OUTPUT_TILES_DIR, tile_filename)\n",
    "        tile_image.save(tile_path)\n",
    "\n",
    "        # Check if the tile is positive\n",
    "        is_positive = is_tile_positive(x, y, TILE_SIZE, annotations)\n",
    "        tile_labels.append(\n",
    "            {\n",
    "                \"filename\": tile_filename,\n",
    "                \"label\": \"positive\" if is_positive else \"negative\",\n",
    "                \"x\": x,\n",
    "                \"y\": y,\n",
    "            }\n",
    "        )\n",
    "\n",
    "# Create a DataFrame for the labels\n",
    "labels_df = pd.DataFrame(tile_labels)\n",
    "labels_df.to_csv(OUTPUT_CSV, index=False)\n",
    "\n",
    "print(f\"Tiles and labels have been saved to {OUTPUT_TILES_DIR} and {OUTPUT_CSV}\")"
   ]
  },
  {
   "cell_type": "code",
   "execution_count": null,
   "metadata": {},
   "outputs": [],
   "source": [
    "tile_labels = pd.read_csv(OUTPUT_CSV)\n",
    "tile_labels"
   ]
  },
  {
   "cell_type": "code",
   "execution_count": null,
   "metadata": {},
   "outputs": [],
   "source": [
    "H, W, _ = slide.shape\n",
    "H, W = H // 224, W // 224\n",
    "print(H, W)"
   ]
  },
  {
   "cell_type": "code",
   "execution_count": null,
   "metadata": {},
   "outputs": [],
   "source": [
    "image_mask = np.zeros((H, W))\n",
    "image_mask.shape"
   ]
  },
  {
   "cell_type": "code",
   "execution_count": null,
   "metadata": {},
   "outputs": [],
   "source": [
    "for label, x, y in tile_labels[[\"label\", \"x\", \"y\"]].values:\n",
    "    if label == \"positive\":\n",
    "        image_mask[x // 224, y // 224] = 255"
   ]
  },
  {
   "cell_type": "code",
   "execution_count": null,
   "metadata": {},
   "outputs": [],
   "source": [
    "import matplotlib.pyplot as plt\n",
    "\n",
    "plt.figure()\n",
    "plt.imshow(image_mask, cmap=\"Greys\")\n",
    "plt.figure()"
   ]
  },
  {
   "cell_type": "code",
   "execution_count": null,
   "metadata": {},
   "outputs": [],
   "source": []
  }
 ],
 "metadata": {
  "kernelspec": {
   "display_name": "digilut-YZcGrZfE-py3.12",
   "language": "python",
   "name": "python3"
  },
  "language_info": {
   "codemirror_mode": {
    "name": "ipython",
    "version": 3
   },
   "file_extension": ".py",
   "mimetype": "text/x-python",
   "name": "python",
   "nbconvert_exporter": "python",
   "pygments_lexer": "ipython3",
   "version": "3.12.4"
  }
 },
 "nbformat": 4,
 "nbformat_minor": 2
}
