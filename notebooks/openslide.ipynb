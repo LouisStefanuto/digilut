{
 "cells": [
  {
   "cell_type": "markdown",
   "metadata": {},
   "source": [
    "# Openslide: experiment notebook"
   ]
  },
  {
   "cell_type": "code",
   "execution_count": null,
   "metadata": {},
   "outputs": [],
   "source": [
    "# REFERENCES:\n",
    "# https://github.com/bnsreenu/python_for_microscopists/blob/master/266_openslide_for_whole_slide_images/openslide_library_for_whole_slide_images.py"
   ]
  },
  {
   "cell_type": "code",
   "execution_count": null,
   "metadata": {},
   "outputs": [],
   "source": [
    "import numpy as np\n",
    "import openslide\n",
    "from openslide.deepzoom import DeepZoomGenerator\n",
    "\n",
    "# Open the TIFF image\n",
    "slide = openslide.OpenSlide(\"../data/images/01lRJdxbiV_a.tif\")"
   ]
  },
  {
   "cell_type": "code",
   "execution_count": null,
   "metadata": {},
   "outputs": [],
   "source": [
    "# Playing with some interesting attributes\n",
    "print(\"dimensions:\", slide.dimensions)\n",
    "print(\"nb dimensions:\", len(slide.level_dimensions))  # dim at each dim\n",
    "print(\"level_dimensions:\", slide.level_dimensions)  # dim at each dim\n",
    "print(\"level_downsamples:\", slide.level_downsamples)  # downsampling ratio"
   ]
  },
  {
   "cell_type": "code",
   "execution_count": null,
   "metadata": {},
   "outputs": [],
   "source": [
    "# Thumbnail\n",
    "thumbnail = slide.get_thumbnail(size=(500, 500))\n",
    "\n",
    "# We can convert it to numpy array\n",
    "arr_thumbnail = np.array(thumbnail)\n",
    "\n",
    "print(arr_thumbnail.shape)\n",
    "thumbnail"
   ]
  },
  {
   "cell_type": "code",
   "execution_count": null,
   "metadata": {},
   "outputs": [],
   "source": [
    "# Read a region\n",
    "location = (0, 0)  # top left pixel\n",
    "level = 6  # zoom\n",
    "size = (1024, 1024)  # height, width\n",
    "\n",
    "slide.read_region(location, level, size)"
   ]
  },
  {
   "cell_type": "code",
   "execution_count": null,
   "metadata": {},
   "outputs": [],
   "source": [
    "# Generate object for tiles using the DeepZoomGenerator\n",
    "TILE_SIZE = 1024\n",
    "\n",
    "tiles = DeepZoomGenerator(slide, tile_size=TILE_SIZE, overlap=0, limit_bounds=False)"
   ]
  },
  {
   "cell_type": "code",
   "execution_count": null,
   "metadata": {},
   "outputs": [],
   "source": [
    "print(\"The number of levels in the tiles object are: \", tiles.level_count)"
   ]
  },
  {
   "cell_type": "code",
   "execution_count": null,
   "metadata": {},
   "outputs": [],
   "source": [
    "# Dimensions of the tile (tile size) for a specific tile from a specific layer\n",
    "print(tiles.get_tile_dimensions(level=0, address=(0, 0)))\n",
    "print(tiles.get_tile_dimensions(level=5, address=(0, 0)))\n",
    "print(tiles.get_tile_dimensions(level=8, address=(0, 0)))\n",
    "print(tiles.get_tile_dimensions(level=11, address=(0, 0)))\n",
    "print(tiles.get_tile_dimensions(level=18, address=(0, 0)))"
   ]
  },
  {
   "cell_type": "code",
   "execution_count": null,
   "metadata": {},
   "outputs": [],
   "source": [
    "MAX_RES_LEVEL = tiles.level_count - 1"
   ]
  },
  {
   "cell_type": "code",
   "execution_count": null,
   "metadata": {},
   "outputs": [],
   "source": [
    "# nb tiles at the best resolution level (the last one) * tile size ~= dim images (depends on limit bounds)\n",
    "print(\"slide dimensions:\", slide.dimensions)\n",
    "print(\n",
    "    \"nb tiles at the best resolution level:\", (tiles.level_tiles[tiles.level_count - 1])\n",
    ")\n",
    "print(\n",
    "    \"nb tiles at the best resolution level (the last one) * tile size:\",\n",
    "    (\n",
    "        tiles.level_tiles[MAX_RES_LEVEL][0] * TILE_SIZE,\n",
    "        tiles.level_tiles[MAX_RES_LEVEL][1] * TILE_SIZE,\n",
    "    ),\n",
    ")\n"
   ]
  },
  {
   "cell_type": "code",
   "execution_count": null,
   "metadata": {},
   "outputs": [],
   "source": [
    "# Get a tile at a (layer, adress), i.e. (zoom, (x, y))\n",
    "tiles.get_tile(level=MAX_RES_LEVEL, address=(25, 34))"
   ]
  },
  {
   "cell_type": "code",
   "execution_count": null,
   "metadata": {},
   "outputs": [],
   "source": [
    "cols, rows = tiles.level_tiles[MAX_RES_LEVEL]\n",
    "print(\"nb of tiles:\", (rows, cols))"
   ]
  },
  {
   "cell_type": "markdown",
   "metadata": {},
   "source": [
    "# Experiment zone to debug misfiltered tiles"
   ]
  },
  {
   "cell_type": "code",
   "execution_count": null,
   "metadata": {},
   "outputs": [],
   "source": [
    "import matplotlib.pyplot as plt\n",
    "import numpy as np\n",
    "import openslide\n",
    "from openslide.deepzoom import DeepZoomGenerator\n",
    "from digilut.tiles.filter_tiles import (\n",
    "    has_too_many_black,\n",
    "    has_too_many_white,\n",
    "    is_green_weaker,\n",
    "    is_not_tissue,\n",
    ")\n",
    "\n",
    "# Open the TIFF image\n",
    "slide = openslide.OpenSlide(\"../data/images/01lRJdxbiV_a.tif\")\n",
    "\n",
    "# Generate object for tiles using the DeepZoomGenerator\n",
    "TILE_SIZE = 1024\n",
    "MAX_RES_LEVEL = 18\n",
    "\n",
    "tiles = DeepZoomGenerator(slide, tile_size=TILE_SIZE, overlap=0, limit_bounds=False)\n",
    "\n",
    "\n",
    "tile = tiles.get_tile(level=MAX_RES_LEVEL, address=(16, 141))\n",
    "tile\n",
    "tile_arr = np.array(tile)\n",
    "tile_arr.shape\n",
    "\n",
    "hist = np.array(tile.convert(\"L\")).flatten()\n",
    "\n",
    "plt.figure()\n",
    "b, bins, patches = plt.hist(hist, 255)\n",
    "plt.xlim([0, 255])\n",
    "plt.show()\n",
    "\n",
    "removed = is_not_tissue(tile)\n",
    "arr_tile = np.array(tile.convert(\"L\"))\n",
    "arr_tile_rgb = np.array(tile.convert(\"RGB\"))\n",
    "\n",
    "print(\"too much white:\", has_too_many_white(arr_tile))\n",
    "print(\"green weaker:\", not is_green_weaker(arr_tile_rgb))\n",
    "print(\"too much black:\", has_too_many_black(arr_tile))\n",
    "\n",
    "print(\"Classified as background:\", removed)\n",
    "\n",
    "tile"
   ]
  },
  {
   "cell_type": "code",
   "execution_count": null,
   "metadata": {},
   "outputs": [],
   "source": [
    "arr_tile_rgb = np.array(tile.convert(\"RGB\"))\n",
    "\n",
    "arr_tile_rgb.mean(axis=tuple(range(arr_tile_rgb.ndim - 1)))"
   ]
  },
  {
   "cell_type": "code",
   "execution_count": null,
   "metadata": {},
   "outputs": [],
   "source": []
  }
 ],
 "metadata": {
  "kernelspec": {
   "display_name": "digilut-YZcGrZfE-py3.12",
   "language": "python",
   "name": "python3"
  },
  "language_info": {
   "codemirror_mode": {
    "name": "ipython",
    "version": 3
   },
   "file_extension": ".py",
   "mimetype": "text/x-python",
   "name": "python",
   "nbconvert_exporter": "python",
   "pygments_lexer": "ipython3",
   "version": "3.12.4"
  }
 },
 "nbformat": 4,
 "nbformat_minor": 2
}
