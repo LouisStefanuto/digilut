{
 "cells": [
  {
   "cell_type": "code",
   "execution_count": null,
   "metadata": {},
   "outputs": [],
   "source": [
    "from pathlib import Path\n",
    "\n",
    "import pandas as pd"
   ]
  },
  {
   "cell_type": "code",
   "execution_count": null,
   "metadata": {},
   "outputs": [],
   "source": [
    "DATA_FOLDER = \"../data\"\n",
    "\n",
    "LABEL_TRAIN = Path(DATA_FOLDER, \"train.csv\")\n",
    "LABEL_VAL = Path(DATA_FOLDER, \"validation.csv\")\n",
    "LABEL_SUB = Path(DATA_FOLDER, \"submission_sample.csv\")"
   ]
  },
  {
   "cell_type": "code",
   "execution_count": null,
   "metadata": {},
   "outputs": [],
   "source": [
    "df = pd.read_csv(LABEL_TRAIN)\n",
    "df"
   ]
  },
  {
   "cell_type": "code",
   "execution_count": null,
   "metadata": {},
   "outputs": [],
   "source": [
    "unique_filenames = df.filename.unique()\n",
    "\n",
    "# Print the 5 first unique filenames\n",
    "unique_filenames[:5]"
   ]
  },
  {
   "cell_type": "code",
   "execution_count": null,
   "metadata": {},
   "outputs": [],
   "source": [
    "for x in unique_filenames:\n",
    "    if \"bGaslniO4a\" in x:\n",
    "        print(x)"
   ]
  },
  {
   "cell_type": "code",
   "execution_count": null,
   "metadata": {},
   "outputs": [],
   "source": [
    "import tifffile\n",
    "from PIL import Image, ImageDraw\n",
    "\n",
    "\n",
    "def draw_rectangles_on_tiff(image_path: Path, csv_file: Path, page_number: int = 0):\n",
    "    print(\"Working on:\", image_path, \"\\n\")\n",
    "\n",
    "    # Open the TIFF file using tifffile\n",
    "    with tifffile.TiffFile(image_path) as tif:\n",
    "        # Read the specified page\n",
    "        max_res_shape = tif.pages[0].shape\n",
    "        page = tif.pages[page_number]\n",
    "        page_shape = page.shape\n",
    "        ratio = 2**page_number\n",
    "\n",
    "        print(\"Original shape:\", max_res_shape)\n",
    "        print(f\"Page shape n°{page_number}:\", page_shape)\n",
    "        print(\n",
    "            \"Ratio max_res/page:\",\n",
    "            (max_res_shape[0] / page_shape[0], max_res_shape[1] / page_shape[1]),\n",
    "            \"\\n\",\n",
    "        )\n",
    "\n",
    "        image_array = page.asarray()\n",
    "\n",
    "        # Convert the image array to a PIL image\n",
    "        image = Image.fromarray(image_array)\n",
    "        draw = ImageDraw.Draw(image)\n",
    "\n",
    "        df = pd.read_csv(csv_file)\n",
    "        df = df[df.filename == image_path.name]\n",
    "        print(df.head())\n",
    "        print()\n",
    "\n",
    "        # Assuming the CSV file has columns named 'x1', 'y1', 'x2', 'y2' for the rectangles\n",
    "        for i, row in df.iterrows():\n",
    "            box = (row[\"x1\"], row[\"y1\"], row[\"x2\"], row[\"y2\"])\n",
    "            print(f\"Box {i} - Coords (max res):\", *box)\n",
    "            print(\"Max res:\", *box)\n",
    "            box = tuple(element / ratio for element in box)\n",
    "            print(\"Resized:\", *box)\n",
    "\n",
    "            # Draw rectangle with red outline\n",
    "            draw.rectangle(box, outline=\"red\", width=30)\n",
    "\n",
    "        # Save or show the image\n",
    "        image.show()\n",
    "\n",
    "\n",
    "# Example usage\n",
    "\n",
    "PAGE_IDX = 5\n",
    "img_path = Path(DATA_FOLDER, \"images\", \"bGaslniO4a_a.tif\")\n",
    "\n",
    "draw_rectangles_on_tiff(img_path, LABEL_TRAIN, PAGE_IDX)\n"
   ]
  },
  {
   "cell_type": "code",
   "execution_count": null,
   "metadata": {},
   "outputs": [],
   "source": []
  }
 ],
 "metadata": {
  "kernelspec": {
   "display_name": "digilut-YZcGrZfE-py3.12",
   "language": "python",
   "name": "python3"
  },
  "language_info": {
   "codemirror_mode": {
    "name": "ipython",
    "version": 3
   },
   "file_extension": ".py",
   "mimetype": "text/x-python",
   "name": "python",
   "nbconvert_exporter": "python",
   "pygments_lexer": "ipython3",
   "version": "3.12.4"
  }
 },
 "nbformat": 4,
 "nbformat_minor": 2
}
