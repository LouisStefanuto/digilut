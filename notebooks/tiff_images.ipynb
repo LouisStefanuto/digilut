{
 "cells": [
  {
   "cell_type": "code",
   "execution_count": null,
   "metadata": {},
   "outputs": [],
   "source": [
    "from pathlib import Path\n",
    "\n",
    "import matplotlib.pyplot as plt\n",
    "import tifffile\n",
    "\n",
    "from digilut.tiff_slide import TiffSlideMetadata, plot_img"
   ]
  },
  {
   "cell_type": "code",
   "execution_count": null,
   "metadata": {},
   "outputs": [],
   "source": [
    "DATA_FOLDER = \"../data\"\n",
    "\n",
    "img_path = Path(DATA_FOLDER, \"images/01lRJdxbiV_a.tif\")\n",
    "img_path = Path(DATA_FOLDER, \"images/01lRJdxbiV_b.tif\")\n",
    "img_path = Path(DATA_FOLDER, \"images/03emhqymEa_a.tif\")\n",
    "img_path = Path(DATA_FOLDER, \"images/03emhqymEa_b.tif\")"
   ]
  },
  {
   "cell_type": "code",
   "execution_count": null,
   "metadata": {},
   "outputs": [],
   "source": [
    "tiff_img = TiffSlideMetadata(img_path)\n",
    "tiff_img.print()"
   ]
  },
  {
   "cell_type": "code",
   "execution_count": null,
   "metadata": {},
   "outputs": [],
   "source": [
    "# A tiff image has pages. A page is the same image but at a given resolution.\n",
    "# The bigger the page index, the lower the resolution and the lighter the image.\n",
    "# We only plot the smallest pages here. Note how the image quality decreases.\n",
    "# >> That will be useful to filter empty regions of the image from low-resolution pages.\n",
    "\n",
    "PAGE_IDX = 5\n",
    "\n",
    "with tifffile.TiffFile(img_path) as tif:\n",
    "    for i, page in enumerate(tif.pages):\n",
    "        print(i, \":\", page.shape)\n",
    "        if i < PAGE_IDX:\n",
    "            print(\"Too big to be displayed\")\n",
    "        else:\n",
    "            plot_img(page.asarray())"
   ]
  },
  {
   "cell_type": "code",
   "execution_count": null,
   "metadata": {},
   "outputs": [],
   "source": [
    "tiff_file = tifffile.TiffFile(img_path)\n",
    "tiff_file"
   ]
  },
  {
   "cell_type": "code",
   "execution_count": null,
   "metadata": {},
   "outputs": [],
   "source": [
    "# Get the i-th page directly as array\n",
    "arr = tifffile.TiffFile(img_path).asarray(key=9)\n",
    "print(arr.shape)\n",
    "\n",
    "# Read directly the i-th page of a tiff-file\n",
    "image = tifffile.imread(img_path, key=9)\n",
    "print(image.shape)"
   ]
  },
  {
   "cell_type": "markdown",
   "metadata": {},
   "source": [
    "## Plot only a sub part of the TIFF file"
   ]
  },
  {
   "cell_type": "markdown",
   "metadata": {},
   "source": [
    "Warning! Expensive RAM operation, we will load a full slide here. If you have limited resources, your kernel may crash."
   ]
  },
  {
   "cell_type": "code",
   "execution_count": null,
   "metadata": {},
   "outputs": [],
   "source": [
    "# Open the TIFF file\n",
    "with tifffile.TiffFile(img_path) as tif:\n",
    "    # Read the image data\n",
    "    image_data = tif.asarray()\n",
    "\n",
    "    # Perform operations with the image data\n",
    "    print(image_data.shape)  # Print the dimensions of the image"
   ]
  },
  {
   "cell_type": "code",
   "execution_count": null,
   "metadata": {},
   "outputs": [],
   "source": [
    "height, width, channels = image_data.shape\n",
    "height, width, channels"
   ]
  },
  {
   "cell_type": "code",
   "execution_count": null,
   "metadata": {},
   "outputs": [],
   "source": [
    "sub_image_data = image_data[: height // 2, : width // 2, :]"
   ]
  },
  {
   "cell_type": "code",
   "execution_count": null,
   "metadata": {},
   "outputs": [],
   "source": [
    "# Plot the image using matplotlib\n",
    "plt.figure(figsize=(10, 10))\n",
    "plt.imshow(sub_image_data)\n",
    "plt.title(\"Large TIFF Image\")\n",
    "plt.axis(\"off\")  # Hide axes\n",
    "plt.show()\n"
   ]
  },
  {
   "cell_type": "code",
   "execution_count": null,
   "metadata": {},
   "outputs": [],
   "source": [
    "sub_image_data = image_data[height // 2 :, width // 2 :, :]\n",
    "\n",
    "# Plot the image using matplotlib\n",
    "plt.figure(figsize=(10, 10))\n",
    "plt.imshow(sub_image_data)\n",
    "plt.title(\"Large TIFF Image\")\n",
    "plt.axis(\"off\")  # Hide axes\n",
    "plt.show()"
   ]
  }
 ],
 "metadata": {
  "kernelspec": {
   "display_name": ".venv",
   "language": "python",
   "name": "python3"
  },
  "language_info": {
   "codemirror_mode": {
    "name": "ipython",
    "version": 3
   },
   "file_extension": ".py",
   "mimetype": "text/x-python",
   "name": "python",
   "nbconvert_exporter": "python",
   "pygments_lexer": "ipython3",
   "version": "3.12.4"
  }
 },
 "nbformat": 4,
 "nbformat_minor": 2
}
