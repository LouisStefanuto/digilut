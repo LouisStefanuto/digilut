{
 "cells": [
  {
   "cell_type": "markdown",
   "metadata": {},
   "source": [
    "Goal: Last step, match predicted bboxes with trustii_id\n",
    "\n",
    "The idea is to sort the 2 dataframes per filename.\n",
    "\n",
    "Assumption:\n",
    "- We expect them to be have the same number of bboxes for each filename"
   ]
  },
  {
   "cell_type": "code",
   "execution_count": null,
   "metadata": {},
   "outputs": [],
   "source": [
    "import pandas as pd\n",
    "\n",
    "submission_template = pd.read_csv(\"../data/submission_sample.csv\")\n",
    "submission_template.sort_values(\"filename\", inplace=True)\n",
    "submission_template.drop(columns=[\"x1\", \"x2\", \"y1\", \"y2\"], inplace=True)\n",
    "\n",
    "bboxes_predicted = pd.read_csv(\"bboxes_predicted.csv\", index_col=0)\n",
    "bboxes_predicted\n",
    "\n",
    "print(submission_template.shape)\n",
    "print(bboxes_predicted.shape)"
   ]
  },
  {
   "cell_type": "code",
   "execution_count": null,
   "metadata": {},
   "outputs": [],
   "source": [
    "print(\"Expected (true):\", len(submission_template) == len(bboxes_predicted))"
   ]
  },
  {
   "cell_type": "code",
   "execution_count": null,
   "metadata": {},
   "outputs": [],
   "source": [
    "final_submission = pd.concat([submission_template, bboxes_predicted], axis=1)\n",
    "final_submission.sort_values(\"trustii_id\")"
   ]
  },
  {
   "cell_type": "code",
   "execution_count": null,
   "metadata": {},
   "outputs": [],
   "source": [
    "final_submission.to_csv(\"submission.csv\")"
   ]
  }
 ],
 "metadata": {
  "kernelspec": {
   "display_name": "digilut-YZcGrZfE-py3.12",
   "language": "python",
   "name": "python3"
  },
  "language_info": {
   "codemirror_mode": {
    "name": "ipython",
    "version": 3
   },
   "file_extension": ".py",
   "mimetype": "text/x-python",
   "name": "python",
   "nbconvert_exporter": "python",
   "pygments_lexer": "ipython3",
   "version": "3.12.4"
  }
 },
 "nbformat": 4,
 "nbformat_minor": 2
}
