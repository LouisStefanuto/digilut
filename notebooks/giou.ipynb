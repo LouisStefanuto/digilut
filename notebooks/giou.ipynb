{
 "cells": [
  {
   "cell_type": "markdown",
   "metadata": {},
   "source": [
    "Goal: Compute the final metrics based on:\n",
    "- bboxes ground truth\n",
    "- bboxes pred"
   ]
  },
  {
   "cell_type": "code",
   "execution_count": null,
   "metadata": {},
   "outputs": [],
   "source": [
    "import numpy as np\n",
    "import pandas as pd\n",
    "import torch\n",
    "from torchmetrics.detection.giou import GeneralizedIntersectionOverUnion"
   ]
  },
  {
   "cell_type": "code",
   "execution_count": null,
   "metadata": {},
   "outputs": [],
   "source": [
    "csv_bboxes_pred = \"\"\n",
    "csv_bboxes_target = \"\"\n",
    "\n",
    "bboxes_pred = pd.read_csv(csv_bboxes_pred)\n",
    "bboxes_target = pd.read_csv(csv_bboxes_target)"
   ]
  },
  {
   "cell_type": "code",
   "execution_count": null,
   "metadata": {},
   "outputs": [],
   "source": [
    "# https://lightning.ai/docs/torchmetrics/stable/detection/generalized_intersection_over_union.html\n",
    "\n",
    "preds = [\n",
    "    {\n",
    "        \"boxes\": torch.tensor(\n",
    "            [\n",
    "                [100, 100, 200, 200],\n",
    "                [400, 400, 500, 500],\n",
    "            ]\n",
    "        ),\n",
    "        \"scores\": torch.tensor([0.236, 0.56]),\n",
    "        \"labels\": torch.tensor([0, 0]),\n",
    "    }\n",
    "]\n",
    "target = [\n",
    "    {\n",
    "        \"boxes\": torch.tensor(\n",
    "            [\n",
    "                [100, 100, 200, 200],\n",
    "                [300, 400, 500, 500],\n",
    "            ]\n",
    "        ),\n",
    "        \"labels\": torch.tensor([0, 0]),\n",
    "    }\n",
    "]\n",
    "metric = GeneralizedIntersectionOverUnion(box_format=\"xyxy\", iou_threshold=0.5)\n",
    "metric(preds, target)"
   ]
  }
 ],
 "metadata": {
  "kernelspec": {
   "display_name": "digilut-YZcGrZfE-py3.12",
   "language": "python",
   "name": "python3"
  },
  "language_info": {
   "codemirror_mode": {
    "name": "ipython",
    "version": 3
   },
   "file_extension": ".py",
   "mimetype": "text/x-python",
   "name": "python",
   "nbconvert_exporter": "python",
   "pygments_lexer": "ipython3",
   "version": "3.12.4"
  }
 },
 "nbformat": 4,
 "nbformat_minor": 2
}
