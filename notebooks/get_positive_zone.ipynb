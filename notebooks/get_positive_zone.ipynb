{
 "cells": [
  {
   "cell_type": "markdown",
   "metadata": {},
   "source": [
    "Goal: This notebook helped to:\n",
    "\n",
    "- visualize bounding boxes regions\n",
    "- understand the XY coordinate system:\n",
    "  - dim 0: X is horizontal, shorter\n",
    "  - dim 1: Y is vertical, longer\n"
   ]
  },
  {
   "cell_type": "code",
   "execution_count": null,
   "metadata": {},
   "outputs": [],
   "source": [
    "import openslide\n",
    "import pandas as pd\n",
    "\n",
    "filename = \"2qj5MlLLBT_a.tif\"\n",
    "filename = \"bGaslniO4a_a.tif\"\n",
    "# filename = \"bGaslniO4a_b.tif\"\n",
    "\n",
    "# Open the TIFF image\n",
    "slide = openslide.OpenSlide(f\"../data/images/{filename}\")"
   ]
  },
  {
   "cell_type": "code",
   "execution_count": null,
   "metadata": {},
   "outputs": [],
   "source": [
    "df = pd.read_csv(\"../data/train.csv\")\n",
    "df.head()"
   ]
  },
  {
   "cell_type": "code",
   "execution_count": null,
   "metadata": {},
   "outputs": [],
   "source": [
    "# The X axis is the shortest. The Y axis is the longest.\n",
    "df.describe().T"
   ]
  },
  {
   "cell_type": "code",
   "execution_count": null,
   "metadata": {},
   "outputs": [],
   "source": [
    "bboxes = df[df.filename == filename]\n",
    "bboxes"
   ]
  },
  {
   "cell_type": "code",
   "execution_count": null,
   "metadata": {},
   "outputs": [],
   "source": [
    "BBOX_ID = 0\n",
    "\n",
    "bbox = bboxes.iloc[BBOX_ID]\n",
    "bbox"
   ]
  },
  {
   "cell_type": "code",
   "execution_count": null,
   "metadata": {},
   "outputs": [],
   "source": [
    "# Read a region\n",
    "location = (bbox.x1, bbox.y1)  # top left pixel (col, row)\n",
    "level = 0  # zoom\n",
    "size = (bbox.x2 - bbox.x1, bbox.y2 - bbox.y1)  # width, height\n",
    "\n",
    "print(location, level, size)\n",
    "slide.read_region(location, level, size)"
   ]
  },
  {
   "cell_type": "code",
   "execution_count": null,
   "metadata": {},
   "outputs": [],
   "source": []
  }
 ],
 "metadata": {
  "kernelspec": {
   "display_name": "digilut-YZcGrZfE-py3.12",
   "language": "python",
   "name": "python3"
  },
  "language_info": {
   "codemirror_mode": {
    "name": "ipython",
    "version": 3
   },
   "file_extension": ".py",
   "mimetype": "text/x-python",
   "name": "python",
   "nbconvert_exporter": "python",
   "pygments_lexer": "ipython3",
   "version": "3.12.4"
  }
 },
 "nbformat": 4,
 "nbformat_minor": 2
}
