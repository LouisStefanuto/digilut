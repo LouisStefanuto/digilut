{
 "cells": [
  {
   "cell_type": "code",
   "execution_count": null,
   "metadata": {},
   "outputs": [],
   "source": [
    "import fast\n",
    "\n",
    "# importer = fast.ImageFileImporter\\\n",
    "#     .create(fast.Config.getDocumentationPath() + '/images/FAST_logo_square.png')\n",
    "\n",
    "# renderer = fast.ImageRenderer.create()\\\n",
    "#     .connect(importer)\n",
    "\n",
    "# fast.SimpleWindow2D.create()\\\n",
    "#     .connect(renderer)\\\n",
    "#     .run()"
   ]
  },
  {
   "cell_type": "code",
   "execution_count": null,
   "metadata": {},
   "outputs": [],
   "source": [
    "# # Render a slide\n",
    "# import fast\n",
    "\n",
    "# fast.downloadTestDataIfNotExists()  # This will download the test data needed to run the example\n",
    "\n",
    "# importer = fast.WholeSlideImageImporter.create(\n",
    "#     fast.Config.getTestDataPath() + \"WSI/CMU-1.svs\"\n",
    "# )\n",
    "\n",
    "# renderer = fast.ImagePyramidRenderer.create().connect(importer)\n",
    "\n",
    "# fast.SimpleWindow2D.create().connect(renderer).run()"
   ]
  },
  {
   "cell_type": "code",
   "execution_count": null,
   "metadata": {},
   "outputs": [],
   "source": [
    "tiff_path = \"../data/images/01lRJdxbiV_a.tif\""
   ]
  },
  {
   "cell_type": "code",
   "execution_count": null,
   "metadata": {},
   "outputs": [],
   "source": [
    "# Extract patches of tissue\n",
    "\n",
    "import fast\n",
    "import matplotlib.pyplot as plt\n",
    "\n",
    "# This will download the test data needed to run the example\n",
    "fast.downloadTestDataIfNotExists()\n",
    "\n",
    "importer = fast.WholeSlideImageImporter.create(\n",
    "    tiff_path\n",
    "    # fast.Config.getTestDataPath() + \"WSI/CMU-1.svs\"\n",
    ")\n",
    "\n",
    "tissueSegmentation = fast.TissueSegmentation.create().connect(importer)\n",
    "\n",
    "patchGenerator = (\n",
    "    fast.PatchGenerator.create(1024, 1024, level=1, overlapPercent=0.0)\n",
    "    .connect(0, importer)\n",
    "    .connect(1, tissueSegmentation)\n",
    ")\n",
    "\n",
    "# Create a 3x3 subplot for every set of 9 patches\n",
    "N = 9\n",
    "patch_list = []\n",
    "for patch in fast.DataStream(patchGenerator):\n",
    "    patch_list.append(patch)\n",
    "    if len(patch_list) == N**2:\n",
    "        # Display the 9 last patches\n",
    "        f, axes = plt.subplots(N, N, figsize=(10, 10))\n",
    "        for i in range(N):\n",
    "            for j in range(N):\n",
    "                axes[i, j].imshow(patch_list[i + j * N])\n",
    "        plt.show()\n",
    "        # patch_list.clear()\n",
    "        break"
   ]
  },
  {
   "cell_type": "code",
   "execution_count": null,
   "metadata": {},
   "outputs": [],
   "source": [
    "# We can convert an image to array directly\n",
    "import numpy as np\n",
    "\n",
    "np.array(patch_list[0]).shape"
   ]
  },
  {
   "cell_type": "code",
   "execution_count": null,
   "metadata": {},
   "outputs": [],
   "source": [
    "importer = fast.WholeSlideImageImporter.create(tiff_path)\n",
    "\n",
    "tissueSegmentation = fast.TissueSegmentation.create().connect(importer)\n",
    "\n",
    "patchGenerator = (\n",
    "    fast.PatchGenerator.create(1024, 1024, level=3, overlapPercent=0.0).connect(\n",
    "        0, importer\n",
    "    )\n",
    "    # .connect(1, tissueSegmentation)\n",
    ")\n",
    "\n",
    "# # Create a 3x3 subplot for every set of 9 patches\n",
    "# patch_list = list(fast.DataStream(patchGenerator))\n",
    "# len(patch_list)\n",
    "\n",
    "# Convert patches back into a slide\n",
    "stitcher = fast.PatchStitcher.create().connect(patchGenerator)"
   ]
  },
  {
   "cell_type": "code",
   "execution_count": null,
   "metadata": {},
   "outputs": [],
   "source": [
    "importer = fast.WholeSlideImageImporter.create(tiff_path)\n",
    "\n",
    "# Do tissue segmentation to select patches from tissue only\n",
    "tissueSegmentation = fast.TissueSegmentation.create().connect(importer)\n",
    "\n",
    "patchGenerator = (\n",
    "    fast.PatchGenerator.create(512, 512, level=2, overlapPercent=0.25)\n",
    "    .connect(0, importer)\n",
    "    .connect(1, tissueSegmentation)\n",
    ")\n",
    "\n",
    "for i, patch in enumerate(fast.DataStream(patchGenerator)):\n",
    "    fast.ImageExporter.create(f\"patch_{i}.jpg\").connect(patch).run()"
   ]
  },
  {
   "cell_type": "code",
   "execution_count": null,
   "metadata": {},
   "outputs": [],
   "source": []
  },
  {
   "cell_type": "code",
   "execution_count": null,
   "metadata": {},
   "outputs": [],
   "source": [
    "# Renderer\n",
    "import fast\n",
    "\n",
    "importer = fast.WholeSlideImageImporter.create(tiff_path)\n",
    "\n",
    "tissueSegmentation = fast.TissueSegmentation.create().connect(importer)\n",
    "\n",
    "renderer = fast.ImagePyramidRenderer.create().connect(importer)\n",
    "\n",
    "segmentationRenderer = fast.SegmentationRenderer.create().connect(tissueSegmentation)\n",
    "\n",
    "fast.SimpleWindow2D.create().connect(renderer).connect(segmentationRenderer).run()"
   ]
  },
  {
   "cell_type": "markdown",
   "metadata": {},
   "source": [
    "# Coordinate check\n",
    "\n",
    "Check coordinates of the patch given by FAST, to see if they match with the expected region of the slide."
   ]
  },
  {
   "cell_type": "code",
   "execution_count": null,
   "metadata": {},
   "outputs": [],
   "source": [
    "from pathlib import Path\n",
    "\n",
    "import fast\n",
    "import matplotlib.pyplot as plt\n",
    "import numpy as np\n",
    "from PIL import Image\n",
    "\n",
    "tiff_img = \"../data/images/2qj5MlLLBT_a.tif\"\n",
    "\n",
    "\n",
    "# Run importer and get data\n",
    "imagePyramid = fast.WholeSlideImageImporter.create(tiff_img).runAndGetOutputData()\n",
    "\n",
    "# tile = \"../processed/2qj5MlLLBT_a/patches/26_588_6656_150528_0_256_256.jpg\"\n",
    "tile = \"../processed/2qj5MlLLBT_a/patches/26_592_6656_151552_0_256_256.jpg\"\n",
    "\n",
    "list_info = [int(x) for x in Path(tile).stem.split(\"_\")]\n",
    "patch_id_x, patch_id_y, x, y, level, w, h = list_info\n",
    "\n",
    "# Extract specific patch at highest resolution\n",
    "access = imagePyramid.getAccess(fast.ACCESS_READ)\n",
    "# level = 0\n",
    "# x = 12000\n",
    "# y = 14000\n",
    "# w = 1024\n",
    "# h = 1024\n",
    "image = access.getPatchAsImage(level, x, y, w, h)\n",
    "\n",
    "# Convert FAST image to numpy ndarray and plot\n",
    "image = np.asarray(image)\n",
    "\n",
    "\n",
    "# Load the JPG file using Pillow\n",
    "with Image.open(tile) as img:\n",
    "    jpg_image = np.array(img)\n",
    "\n",
    "# Create a figure with 2 subplots\n",
    "fig, axs = plt.subplots(1, 2, figsize=(12, 6))\n",
    "\n",
    "# Plot the extracted patch image\n",
    "axs[0].imshow(image)\n",
    "axs[0].axis(\"off\")  # Hide axes\n",
    "axs[0].set_title(\"Extracted Patch\")\n",
    "\n",
    "# Plot the JPG image\n",
    "axs[1].imshow(jpg_image)\n",
    "axs[1].axis(\"off\")  # Hide axes\n",
    "axs[1].set_title(\"JPG Image\")\n",
    "\n",
    "# Show the plot\n",
    "plt.tight_layout()\n",
    "plt.show()"
   ]
  },
  {
   "cell_type": "code",
   "execution_count": null,
   "metadata": {},
   "outputs": [],
   "source": []
  }
 ],
 "metadata": {
  "kernelspec": {
   "display_name": "digilut-YZcGrZfE-py3.12",
   "language": "python",
   "name": "python3"
  },
  "language_info": {
   "codemirror_mode": {
    "name": "ipython",
    "version": 3
   },
   "file_extension": ".py",
   "mimetype": "text/x-python",
   "name": "python",
   "nbconvert_exporter": "python",
   "pygments_lexer": "ipython3",
   "version": "3.12.4"
  }
 },
 "nbformat": 4,
 "nbformat_minor": 2
}
